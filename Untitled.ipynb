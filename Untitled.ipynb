{
 "cells": [
  {
   "cell_type": "code",
   "execution_count": 1,
   "id": "4563d0db",
   "metadata": {},
   "outputs": [
    {
     "name": "stdout",
     "output_type": "stream",
     "text": [
      "0.8833333333333333\n"
     ]
    }
   ],
   "source": [
    "import numpy as np\n",
    "import pandas as pd\n",
    "df = pd.read_csv('students_placement.csv')\n",
    "df.sample(5)\n",
    "X = df.drop(columns=['placed'])\n",
    "y = df['placed']\n",
    "from sklearn.model_selection import train_test_split\n",
    "X_train,X_test,y_train,y_test = train_test_split(X,y,test_size=0.2,random_state=2)\n",
    "#train the model\n",
    "from sklearn.ensemble import RandomForestClassifier\n",
    "from sklearn.metrics import accuracy_score\n",
    "rf = RandomForestClassifier()\n",
    "rf.fit(X_train,y_train)\n",
    "y_pred = rf.predict(X_test)\n",
    "print(accuracy_score(y_test,y_pred))\n",
    "#save the model in pickle format\n",
    "import pickle \n",
    "pickle.dump(rf,open('model.pkl','wb'))"
   ]
  },
  {
   "cell_type": "code",
   "execution_count": null,
   "id": "1a86662f",
   "metadata": {},
   "outputs": [
    {
     "name": "stdout",
     "output_type": "stream",
     "text": [
      " * Serving Flask app \"__main__\" (lazy loading)\n",
      " * Environment: production\n",
      "\u001b[31m   WARNING: This is a development server. Do not use it in a production deployment.\u001b[0m\n",
      "\u001b[2m   Use a production WSGI server instead.\u001b[0m\n",
      " * Debug mode: off\n"
     ]
    },
    {
     "name": "stderr",
     "output_type": "stream",
     "text": [
      " * Running on http://127.0.0.1:5000/ (Press CTRL+C to quit)\n",
      "127.0.0.1 - - [03/Oct/2022 12:36:38] \"GET / HTTP/1.1\" 200 -\n",
      "127.0.0.1 - - [03/Oct/2022 12:36:38] \"GET /favicon.ico HTTP/1.1\" 404 -\n",
      "127.0.0.1 - - [03/Oct/2022 12:36:43] \"GET /predict HTTP/1.1\" 405 -\n",
      "127.0.0.1 - - [03/Oct/2022 12:40:25] \"GET /predict HTTP/1.1\" 405 -\n",
      "C:\\Users\\khanr\\anaconda3\\lib\\site-packages\\sklearn\\base.py:450: UserWarning: X does not have valid feature names, but RandomForestClassifier was fitted with feature names\n",
      "  warnings.warn(\n",
      "127.0.0.1 - - [03/Oct/2022 12:40:35] \"POST /predict HTTP/1.1\" 200 -\n",
      "C:\\Users\\khanr\\anaconda3\\lib\\site-packages\\sklearn\\base.py:450: UserWarning: X does not have valid feature names, but RandomForestClassifier was fitted with feature names\n",
      "  warnings.warn(\n",
      "127.0.0.1 - - [03/Oct/2022 12:42:33] \"POST /predict HTTP/1.1\" 200 -\n",
      "C:\\Users\\khanr\\anaconda3\\lib\\site-packages\\sklearn\\base.py:450: UserWarning: X does not have valid feature names, but RandomForestClassifier was fitted with feature names\n",
      "  warnings.warn(\n",
      "127.0.0.1 - - [03/Oct/2022 12:42:35] \"POST /predict HTTP/1.1\" 200 -\n"
     ]
    }
   ],
   "source": [
    "from flask import Flask,request,jsonify\n",
    "import numpy as np\n",
    "import pickle\n",
    "model = pickle.load(open('model.pkl','rb'))\n",
    "app = Flask(__name__)\n",
    "@app.route('/')\n",
    "def index():\n",
    "    return \"Hello world\"\n",
    "@app.route('/predict',methods=['POST'])\n",
    "def predict():\n",
    "    cgpa = request.form.get('cgpa')\n",
    "    iq = request.form.get('iq')\n",
    "    profile_score = request.form.get('profile_score')\n",
    "    input_query = np.array([[cgpa,iq,profile_score]])\n",
    "    result = model.predict(input_query)[0]\n",
    "    return jsonify({'placement':str(result)})\n",
    "if __name__ == '__main__':\n",
    "    app.run()"
   ]
  },
  {
   "cell_type": "code",
   "execution_count": null,
   "id": "24c9d63d",
   "metadata": {},
   "outputs": [],
   "source": []
  }
 ],
 "metadata": {
  "kernelspec": {
   "display_name": "Python 3 (ipykernel)",
   "language": "python",
   "name": "python3"
  },
  "language_info": {
   "codemirror_mode": {
    "name": "ipython",
    "version": 3
   },
   "file_extension": ".py",
   "mimetype": "text/x-python",
   "name": "python",
   "nbconvert_exporter": "python",
   "pygments_lexer": "ipython3",
   "version": "3.9.12"
  }
 },
 "nbformat": 4,
 "nbformat_minor": 5
}
